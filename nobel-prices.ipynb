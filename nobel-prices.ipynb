{
 "cells": [
  {
   "cell_type": "markdown",
   "source": [
    "# Aufgabe 1\n",
    "Daten importieren"
   ],
   "metadata": {
    "collapsed": false
   }
  },
  {
   "cell_type": "code",
   "execution_count": 2,
   "metadata": {
    "collapsed": true,
    "pycharm": {
     "name": "#%%\n"
    }
   },
   "outputs": [
    {
     "name": "stdout",
     "output_type": "stream",
     "text": [
      "<class 'pandas.core.frame.DataFrame'>\n",
      "RangeIndex: 969 entries, 0 to 968\n",
      "Data columns (total 18 columns):\n",
      " #   Column                Non-Null Count  Dtype \n",
      "---  ------                --------------  ----- \n",
      " 0   Year                  969 non-null    int64 \n",
      " 1   Category              969 non-null    object\n",
      " 2   Prize                 969 non-null    object\n",
      " 3   Motivation            881 non-null    object\n",
      " 4   Prize Share           969 non-null    object\n",
      " 5   Laureate ID           969 non-null    int64 \n",
      " 6   Laureate Type         969 non-null    object\n",
      " 7   Full Name             969 non-null    object\n",
      " 8   Birth Date            940 non-null    object\n",
      " 9   Birth City            941 non-null    object\n",
      " 10  Birth Country         943 non-null    object\n",
      " 11  Sex                   943 non-null    object\n",
      " 12  Organization Name     722 non-null    object\n",
      " 13  Organization City     716 non-null    object\n",
      " 14  Organization Country  716 non-null    object\n",
      " 15  Death Date            617 non-null    object\n",
      " 16  Death City            599 non-null    object\n",
      " 17  Death Country         605 non-null    object\n",
      "dtypes: int64(2), object(16)\n",
      "memory usage: 136.4+ KB\n"
     ]
    }
   ],
   "source": [
    "import datetime as dt\n",
    "import matplotlib.pyplot as plt\n",
    "import numpy as np\n",
    "import seaborn as sns\n",
    "import pandas as pd\n",
    "import statistics\n",
    "\n",
    "# Set default Seaborn style\n",
    "sns.set()\n",
    "\n",
    "data = pd.read_csv(\"nobel.csv\")\n",
    "data.info()"
   ]
  },
  {
   "cell_type": "markdown",
   "source": [
    "Wer bekommt einen Nobelpreis?"
   ],
   "metadata": {
    "collapsed": false,
    "pycharm": {
     "name": "#%% md\n"
    }
   }
  },
  {
   "cell_type": "code",
   "execution_count": 3,
   "outputs": [
    {
     "data": {
      "text/plain": "0      Jacobus Henricus van 't Hoff\n1                   Sully Prudhomme\n2            Emil Adolf von Behring\n3                 Jean Henry Dunant\n4                    Frédéric Passy\n                   ...             \n964                Yoshinori Ohsumi\n965              Juan Manuel Santos\n966               David J. Thouless\n967            F. Duncan M. Haldane\n968           J. Michael Kosterlitz\nName: Full Name, Length: 969, dtype: object"
     },
     "execution_count": 3,
     "metadata": {},
     "output_type": "execute_result"
    }
   ],
   "source": [
    "names = data['Full Name']\n",
    "names"
   ],
   "metadata": {
    "collapsed": false,
    "pycharm": {
     "name": "#%%\n"
    }
   }
  },
  {
   "cell_type": "markdown",
   "source": [
    "Geschlecht der Nobelpreisträger?"
   ],
   "metadata": {
    "collapsed": false,
    "pycharm": {
     "name": "#%% md\n"
    }
   }
  },
  {
   "cell_type": "code",
   "execution_count": 4,
   "outputs": [
    {
     "data": {
      "text/plain": "Male      893\nFemale     50\nName: Sex, dtype: int64"
     },
     "execution_count": 4,
     "metadata": {},
     "output_type": "execute_result"
    }
   ],
   "source": [
    "genders = data['Sex'].value_counts()\n",
    "genders"
   ],
   "metadata": {
    "collapsed": false,
    "pycharm": {
     "name": "#%%\n"
    }
   }
  },
  {
   "cell_type": "markdown",
   "source": [
    "Alter der Nobelpreisträger?"
   ],
   "metadata": {
    "collapsed": false
   }
  },
  {
   "cell_type": "code",
   "execution_count": 5,
   "outputs": [
    {
     "data": {
      "text/plain": "<Figure size 432x288 with 1 Axes>",
      "image/png": "[encoded data removed]"
     },
     "metadata": {},
     "output_type": "display_data"
    }
   ],
   "source": [
    "def calculate_age(born, date_of_win):\n",
    "    return date_of_win.year - born.year # - ((date_of_win.month, date_of_win.day) < (born.month, born.day))\n",
    "\n",
    "data['DateTime Birthday'] = pd.to_datetime(data['Birth Date'], errors='coerce')\n",
    "\n",
    "# new column with age of winner\n",
    "data[\"Age\"] = data.apply(lambda row: calculate_age(row[\"DateTime Birthday\"], dt.datetime(row[\"Year\"], 1, 1)), axis=1)\n",
    "\n",
    "ages = data['Age']\n",
    "\n",
    "plt.hist(ages)\n",
    "plt.title('histogram of ages')\n",
    "plt.show()"
   ],
   "metadata": {
    "collapsed": false,
    "pycharm": {
     "name": "#%%\n"
    }
   }
  },
  {
   "cell_type": "markdown",
   "source": [
    "Jüngster Nobelpreisträger"
   ],
   "metadata": {
    "collapsed": false,
    "pycharm": {
     "name": "#%% md\n"
    }
   }
  },
  {
   "cell_type": "code",
   "execution_count": 6,
   "outputs": [
    {
     "data": {
      "text/plain": "     Year Category                       Prize  \\\n940  2014    Peace  The Nobel Peace Prize 2014   \n\n                                            Motivation Prize Share  \\\n940  \"for their struggle against the suppression of...         1/2   \n\n     Laureate ID Laureate Type         Full Name  Birth Date Birth City  \\\n940          914    Individual  Malala Yousafzai  1997-07-12    Mingora   \n\n    Birth Country     Sex Organization Name Organization City  \\\n940      Pakistan  Female               NaN               NaN   \n\n    Organization Country Death Date Death City Death Country  \\\n940                  NaN        NaN        NaN           NaN   \n\n    DateTime Birthday   Age  \n940        1997-07-12  17.0  ",
      "text/html": "<div>\n<style scoped>\n    .dataframe tbody tr th:only-of-type {\n        vertical-align: middle;\n    }\n\n    .dataframe tbody tr th {\n        vertical-align: top;\n    }\n\n    .dataframe thead th {\n        text-align: right;\n    }\n</style>\n<table border=\"1\" class=\"dataframe\">\n  <thead>\n    <tr style=\"text-align: right;\">\n      <th></th>\n      <th>Year</th>\n      <th>Category</th>\n      <th>Prize</th>\n      <th>Motivation</th>\n      <th>Prize Share</th>\n      <th>Laureate ID</th>\n      <th>Laureate Type</th>\n      <th>Full Name</th>\n      <th>Birth Date</th>\n      <th>Birth City</th>\n      <th>Birth Country</th>\n      <th>Sex</th>\n      <th>Organization Name</th>\n      <th>Organization City</th>\n      <th>Organization Country</th>\n      <th>Death Date</th>\n      <th>Death City</th>\n      <th>Death Country</th>\n      <th>DateTime Birthday</th>\n      <th>Age</th>\n    </tr>\n  </thead>\n  <tbody>\n    <tr>\n      <th>940</th>\n      <td>2014</td>\n      <td>Peace</td>\n      <td>The Nobel Peace Prize 2014</td>\n      <td>\"for their struggle against the suppression of...</td>\n      <td>1/2</td>\n      <td>914</td>\n      <td>Individual</td>\n      <td>Malala Yousafzai</td>\n      <td>1997-07-12</td>\n      <td>Mingora</td>\n      <td>Pakistan</td>\n      <td>Female</td>\n      <td>NaN</td>\n      <td>NaN</td>\n      <td>NaN</td>\n      <td>NaN</td>\n      <td>NaN</td>\n      <td>NaN</td>\n      <td>1997-07-12</td>\n      <td>17.0</td>\n    </tr>\n  </tbody>\n</table>\n</div>"
     },
     "execution_count": 6,
     "metadata": {},
     "output_type": "execute_result"
    }
   ],
   "source": [
    "data.iloc[[data['Age'].idxmin()]]"
   ],
   "metadata": {
    "collapsed": false,
    "pycharm": {
     "name": "#%%\n"
    }
   }
  },
  {
   "cell_type": "markdown",
   "source": [
    "Ältester Nobelpreisträger"
   ],
   "metadata": {
    "collapsed": false,
    "pycharm": {
     "name": "#%% md\n"
    }
   }
  },
  {
   "cell_type": "code",
   "execution_count": 7,
   "outputs": [
    {
     "data": {
      "text/plain": "     Year   Category                                              Prize  \\\n825  2007  Economics  The Sveriges Riksbank Prize in Economic Scienc...   \n\n                                            Motivation Prize Share  \\\n825  \"for having laid the foundations of mechanism ...         1/3   \n\n     Laureate ID Laureate Type       Full Name  Birth Date Birth City  \\\n825          820    Individual  Leonid Hurwicz  1917-08-21     Moscow   \n\n    Birth Country   Sex        Organization Name Organization City  \\\n825        Russia  Male  University of Minnesota   Minneapolis, MN   \n\n         Organization Country  Death Date       Death City  \\\n825  United States of America  2008-06-24  Minneapolis, MN   \n\n                Death Country DateTime Birthday   Age  \n825  United States of America        1917-08-21  90.0  ",
      "text/html": "<div>\n<style scoped>\n    .dataframe tbody tr th:only-of-type {\n        vertical-align: middle;\n    }\n\n    .dataframe tbody tr th {\n        vertical-align: top;\n    }\n\n    .dataframe thead th {\n        text-align: right;\n    }\n</style>\n<table border=\"1\" class=\"dataframe\">\n  <thead>\n    <tr style=\"text-align: right;\">\n      <th></th>\n      <th>Year</th>\n      <th>Category</th>\n      <th>Prize</th>\n      <th>Motivation</th>\n      <th>Prize Share</th>\n      <th>Laureate ID</th>\n      <th>Laureate Type</th>\n      <th>Full Name</th>\n      <th>Birth Date</th>\n      <th>Birth City</th>\n      <th>Birth Country</th>\n      <th>Sex</th>\n      <th>Organization Name</th>\n      <th>Organization City</th>\n      <th>Organization Country</th>\n      <th>Death Date</th>\n      <th>Death City</th>\n      <th>Death Country</th>\n      <th>DateTime Birthday</th>\n      <th>Age</th>\n    </tr>\n  </thead>\n  <tbody>\n    <tr>\n      <th>825</th>\n      <td>2007</td>\n      <td>Economics</td>\n      <td>The Sveriges Riksbank Prize in Economic Scienc...</td>\n      <td>\"for having laid the foundations of mechanism ...</td>\n      <td>1/3</td>\n      <td>820</td>\n      <td>Individual</td>\n      <td>Leonid Hurwicz</td>\n      <td>1917-08-21</td>\n      <td>Moscow</td>\n      <td>Russia</td>\n      <td>Male</td>\n      <td>University of Minnesota</td>\n      <td>Minneapolis, MN</td>\n      <td>United States of America</td>\n      <td>2008-06-24</td>\n      <td>Minneapolis, MN</td>\n      <td>United States of America</td>\n      <td>1917-08-21</td>\n      <td>90.0</td>\n    </tr>\n  </tbody>\n</table>\n</div>"
     },
     "execution_count": 7,
     "metadata": {},
     "output_type": "execute_result"
    }
   ],
   "source": [
    "data.iloc[[data['Age'].idxmax()]]"
   ],
   "metadata": {
    "collapsed": false,
    "pycharm": {
     "name": "#%%\n"
    }
   }
  },
  {
   "cell_type": "markdown",
   "source": [
    "Gewinner mit mehr als einem Nobelpreis"
   ],
   "metadata": {
    "collapsed": false,
    "pycharm": {
     "name": "#%% md\n"
    }
   }
  },
  {
   "cell_type": "code",
   "execution_count": 8,
   "outputs": [
    {
     "name": "stdout",
     "output_type": "stream",
     "text": [
      "People with more than one win with the amount of wins:\n",
      "{'Jack W. Szostak': 3, 'Comité international de la Croix Rouge (International Committee of the Red Cross)': 3, 'Paul Ehrlich': 2, 'Roderick MacKinnon': 2, 'Albert Fert': 2, 'Adam G. Riess': 2, 'Robert J. Lefkowitz': 2, 'Alvin E. Roth': 2, 'Werner Forssmann': 2, 'Rudolf Ludwig Mössbauer': 2, 'Shinya Yamanaka': 2, 'Serge Haroche': 2, 'John Bardeen': 2, 'David J. Wineland': 2, 'Martin Karplus': 2, 'Mario R. Capecchi': 2, 'Günter Blobel': 2, 'Abdus Salam': 2, 'Randy W. Schekman': 2, 'Saul Perlmutter': 2, 'Osamu Shimomura': 2, 'Walther Bothe': 2, 'Kurt Wüthrich': 2, 'Thomas A. Steitz': 2, 'Charles Kuen Kao': 2, 'Petrus (Peter) Josephus Wilhelmus Debye': 2, 'Toshihide Maskawa': 2, 'Il´ja Mikhailovich Frank': 2, 'Igor Yevgenyevich Tamm': 2, 'Dale T. Mortensen': 2, 'Roger Y. Tsien': 2, 'Richard Kuhn': 2, 'Georges Charpak': 2, 'Frederick Sanger': 2, 'Adolf Friedrich Johann Butenandt': 2, 'William Parry Murphy': 2, 'Bruce A. Beutler': 2, 'Thomas C. Südhof': 2, 'Elinor Ostrom': 2, 'Marie Curie, née Sklodowska': 2, 'Christian de Duve': 2, 'Finn E. Kydland': 2, 'Theodor W. Hänsch': 2, 'Carl Bosch': 2, 'Hermann Staudinger': 2, 'Edward C. Prescott': 2, 'Jean-Marie Lehn': 2, 'Claude Cohen-Tannoudji': 2, 'Paul Modrich': 2, 'Tomas Lindahl': 2, 'Friedrich Bergius': 2, 'Fritz Albert Lipmann': 2, 'Isamu Akasaki': 2, 'Antonio Caetano de Abreu Freire Egas Moniz': 2, 'John L. Hall': 2, 'Barry J. Marshall': 2, 'Linus Carl Pauling': 2, 'Hideki Yukawa': 2, 'Office of the United Nations High Commissioner for Refugees (UNHCR)': 2, 'John Franklin Enders': 2, 'Stefan W. Hell': 2, 'Johann Deisenhofer': 2, 'Ilya Prigogine': 2}\n"
     ]
    },
    {
     "data": {
      "text/plain": "<Figure size 432x288 with 1 Axes>",
      "image/png": "[encoded data removed]"
     },
     "metadata": {},
     "output_type": "display_data"
    }
   ],
   "source": [
    "winners_accumulated = names.value_counts()\n",
    "winners_with_prices_count = winners_accumulated.to_dict()\n",
    "winners_with_more_than_two = {}\n",
    "for winner in winners_with_prices_count:\n",
    "    if winners_with_prices_count[winner] > 1:\n",
    "        winners_with_more_than_two[winner] = winners_with_prices_count[winner]\n",
    "print(\"People with more than one win with the amount of wins:\")\n",
    "print(winners_with_more_than_two)\n",
    "ls = winners_with_more_than_two.items()\n",
    "x, y = zip(*ls)\n",
    "plt.plot(x, y)\n",
    "plt.xlabel('Name')\n",
    "plt.ylabel('Number of wins')\n",
    "plt.title('People with more than one win')\n",
    "plt.show()\n"
   ],
   "metadata": {
    "collapsed": false,
    "pycharm": {
     "name": "#%%\n"
    }
   }
  },
  {
   "cell_type": "code",
   "source": [
    "ages = data['Age']\n",
    "\n",
    "ages_mean = np.mean(ages)\n",
    "\n",
    "print(\"Altersdurchschnitt:\", ages_mean)\n",
    "print(\"Median:\", statistics.median(ages))\n",
    "print(\"Standardabweichung:\", np.std(ages))\n",
    "print(\"Varianz:\", np.var(ages))\n",
    "\n",
    "ages.describe()"
   ],
   "metadata": {
    "collapsed": false,
    "pycharm": {
     "name": "#%%\n"
    }
   },
   "execution_count": 9,
   "outputs": [
    {
     "name": "stdout",
     "output_type": "stream",
     "text": [
      "Altersdurchschnitt: 59.48510638297872\n",
      "Median: 62.0\n",
      "Standardabweichung: 12.357820828405815\n",
      "Varianz: 152.71573562698057\n"
     ]
    },
    {
     "data": {
      "text/plain": "count    940.000000\nmean      59.485106\nstd       12.364399\nmin       17.000000\n25%       50.000000\n50%       60.000000\n75%       69.000000\nmax       90.000000\nName: Age, dtype: float64"
     },
     "execution_count": 9,
     "metadata": {},
     "output_type": "execute_result"
    }
   ]
  },
  {
   "cell_type": "markdown",
   "source": [
    "# Aufgabe 2\n",
    "1. Nobel Prize Winner: find statistical characteristics for nobel prize age with explanation each of these. Find how many youngest Nobel winners might we expect? Use examples from “TestProject”.\n",
    "\n",
    "## Verteilungsfunktion"
   ],
   "metadata": {
    "collapsed": false,
    "pycharm": {
     "name": "#%% md\n"
    }
   }
  },
  {
   "cell_type": "code",
   "execution_count": 10,
   "outputs": [
    {
     "data": {
      "text/plain": "<Figure size 432x288 with 1 Axes>",
      "image/png": "[encoded data removed]"
     },
     "metadata": {},
     "output_type": "display_data"
    }
   ],
   "source": [
    "def ecdf(data):\n",
    "    # number of data points: n\n",
    "    n = len(data)\n",
    "    # x-data for the ECDF: x\n",
    "    x=np.sort(data)\n",
    "    # y-data for the ECDF: y\n",
    "    y=np.arange(1, n+1)/n\n",
    "    return x,y\n",
    "\n",
    "x_age, y_age = ecdf(ages)\n",
    "\n",
    "plt.plot(x_age, y_age, marker='.', linestyle='none')\n",
    "plt.ylabel('ECDF')\n",
    "plt.xlabel('Age')\n",
    "plt.show()"
   ],
   "metadata": {
    "collapsed": false,
    "pycharm": {
     "name": "#%%\n"
    }
   }
  },
  {
   "cell_type": "code",
   "execution_count": 11,
   "outputs": [
    {
     "data": {
      "text/plain": "<Figure size 432x288 with 1 Axes>",
      "image/png": "[encoded data removed]"
     },
     "metadata": {},
     "output_type": "display_data"
    },
    {
     "name": "stdout",
     "output_type": "stream",
     "text": [
      "Wahrscheinlichkeit, dass Nobelpreisgewinner < 18 sein wird:\n",
      " 0.0 %\n"
     ]
    }
   ],
   "source": [
    "sample_ages_poisson = np.random.poisson(ages_mean, size=1000000)\n",
    "\n",
    "p_yougher_than_18 = np.sum(sample_ages_poisson < 18)\n",
    "\n",
    "plt.plot(sample_ages_poisson, marker='.', linestyle='none')\n",
    "plt.ylabel('ECDF')\n",
    "plt.xlabel('Age')\n",
    "plt.show()\n",
    "\n",
    "print(\"Wahrscheinlichkeit, dass Nobelpreisgewinner < 18 sein wird:\\n\",\n",
    "      p_yougher_than_18/1000000*100,\n",
    "      \"%\")"
   ],
   "metadata": {
    "collapsed": false,
    "pycharm": {
     "name": "#%%\n"
    }
   }
  },
  {
   "cell_type": "markdown",
   "source": [
    "2. Find Cov. Matrix for Iris Types “setosa” and “Virginica” for\n",
    "sepal length and sepal width with explanation what each element\n",
    "of Matrix means and why."
   ],
   "metadata": {
    "collapsed": false,
    "pycharm": {
     "name": "#%% md\n"
    }
   }
  },
  {
   "cell_type": "code",
   "execution_count": 13,
   "outputs": [
    {
     "name": "stdout",
     "output_type": "stream",
     "text": [
      "Virginica Covariance Matrix\n",
      " [[0.40434286 0.09376327]\n",
      " [0.09376327 0.10400408]]\n",
      "Virginica Setosa Matrix\n",
      " [[0.12424898 0.10029796]\n",
      " [0.10029796 0.14517959]]\n",
      "Kovarianz Virginica:  0.09376326530612242\n",
      "Kovarianz Setosa:  0.10029795918367344\n",
      "Da die Kovarianz bei beiden Arten < 0.5 ist, besteht zwischen der\n",
      "Lände und Breite nur ein geringer Zusammenhang\n"
     ]
    }
   ],
   "source": [
    "iris_data = pd.read_csv(\"iris.csv\", delimiter=\";\")\n",
    "\n",
    "virginica = iris_data[iris_data.target_names =='Iris-virginica']\n",
    "virginica_sepal_length = virginica.loc[:, 'sepal length (cm)']\n",
    "virginica_sepal_width = virginica.loc[:, 'sepal width (cm)']\n",
    "\n",
    "virginica_covariance_matrix = np.cov(virginica_sepal_length, virginica_sepal_width)\n",
    "\n",
    "setosa = iris_data[iris_data.target_names =='Iris-setosa']\n",
    "setosa_sepal_length = setosa.loc[:, 'sepal length (cm)']\n",
    "setosa_sepal_width = setosa.loc[:, 'sepal width (cm)']\n",
    "# Compute the covariance matrix: covariance_matrix\n",
    "setosa_covariance_matrix = np.cov(setosa_sepal_length, setosa_sepal_width)\n",
    "\n",
    "# Print covariance matrix\n",
    "print(\"Virginica Covariance Matrix\\n\", virginica_covariance_matrix)\n",
    "print(\"Virginica Setosa Matrix\\n\", setosa_covariance_matrix)\n",
    "\n",
    "# Extract covariance of length and width of petals: petal_cov\n",
    "virginica_cov = virginica_covariance_matrix[0,1]\n",
    "setosa_cov = setosa_covariance_matrix[0,1]\n",
    "# Print the length/width covariance\n",
    "print(\"Kovarianz Virginica: \", virginica_cov)\n",
    "print(\"Kovarianz Setosa: \", setosa_cov)\n",
    "print(\"Da die Kovarianz bei beiden Arten < 0.5 ist, besteht zwischen der\\nLände und Breite nur ein geringer Zusammenhang\")"
   ],
   "metadata": {
    "collapsed": false,
    "pycharm": {
     "name": "#%%\n"
    }
   }
  }
 ],
 "metadata": {
  "kernelspec": {
   "display_name": "Python 3",
   "language": "python",
   "name": "python3"
  },
  "language_info": {
   "codemirror_mode": {
    "name": "ipython",
    "version": 2
   },
   "file_extension": ".py",
   "mimetype": "text/x-python",
   "name": "python",
   "nbconvert_exporter": "python",
   "pygments_lexer": "ipython2",
   "version": "2.7.6"
  }
 },
 "nbformat": 4,
 "nbformat_minor": 0
}