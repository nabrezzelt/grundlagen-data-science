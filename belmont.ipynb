{
 "cells": [
  {
   "cell_type": "code",
   "execution_count": 1,
   "metadata": {
    "collapsed": true
   },
   "outputs": [
    {
     "data": {
      "text/plain": "    Year            Winner           Jockey              Trainer  \\\n0   2016           Creator   Irad Ortiz, Jr       Steve Asmussen   \n1   2015  American Pharoah  Victor Espinoza          Bob Baffert   \n2   2014          Tonalist     Joel Rosario   Christophe Clement   \n3   2013     Palace Malice       Mike Smith        Todd Pletcher   \n4   2012        Union Rags   John Velazquez         Michael Matz   \n..   ...               ...              ...                  ...   \n86  1930       Gallant Fox       Earl Sande      Jim Fitzsimmons   \n87  1929     Blue Larkspur      Mack Garner  Herbert J. Thompson   \n88  1928              Vito  Clarence Kummer           Max Hirsch   \n89  1927       Chance Shot       Earl Sande           Pete Coyne   \n90  1926          Crusader   Albert Johnson        George Conway   \n\n                 Owner     Time    Track    miles  \n0     WinStar Farm LLC  2:28.51  Belmont  01. Mai  \n1   Zayat Stables, LLC  2:26.65  Belmont  01. Mai  \n2      Robert S. Evans  2:28.52  Belmont  01. Mai  \n3       Dogwood Stable  2:30.70  Belmont  01. Mai  \n4     Phyllis M. Wyeth  2:30.42  Belmont  01. Mai  \n..                 ...      ...      ...      ...  \n86         Belair Stud  2:31.60  Belmont  01. Mai  \n87   Edward R. Bradley  2:32.80  Belmont  01. Mai  \n88    Alfred H. Cosden  2:33.20  Belmont  01. Mai  \n89   Joseph E. Widener  2:32.40  Belmont  01. Mai  \n90    Glen Riddle Farm  2:32.20  Belmont  01. Mai  \n\n[91 rows x 8 columns]",
      "text/html": "<div>\n<style scoped>\n    .dataframe tbody tr th:only-of-type {\n        vertical-align: middle;\n    }\n\n    .dataframe tbody tr th {\n        vertical-align: top;\n    }\n\n    .dataframe thead th {\n        text-align: right;\n    }\n</style>\n<table border=\"1\" class=\"dataframe\">\n  <thead>\n    <tr style=\"text-align: right;\">\n      <th></th>\n      <th>Year</th>\n      <th>Winner</th>\n      <th>Jockey</th>\n      <th>Trainer</th>\n      <th>Owner</th>\n      <th>Time</th>\n      <th>Track</th>\n      <th>miles</th>\n    </tr>\n  </thead>\n  <tbody>\n    <tr>\n      <th>0</th>\n      <td>2016</td>\n      <td>Creator</td>\n      <td>Irad Ortiz, Jr</td>\n      <td>Steve Asmussen</td>\n      <td>WinStar Farm LLC</td>\n      <td>2:28.51</td>\n      <td>Belmont</td>\n      <td>01. Mai</td>\n    </tr>\n    <tr>\n      <th>1</th>\n      <td>2015</td>\n      <td>American Pharoah</td>\n      <td>Victor Espinoza</td>\n      <td>Bob Baffert</td>\n      <td>Zayat Stables, LLC</td>\n      <td>2:26.65</td>\n      <td>Belmont</td>\n      <td>01. Mai</td>\n    </tr>\n    <tr>\n      <th>2</th>\n      <td>2014</td>\n      <td>Tonalist</td>\n      <td>Joel Rosario</td>\n      <td>Christophe Clement</td>\n      <td>Robert S. Evans</td>\n      <td>2:28.52</td>\n      <td>Belmont</td>\n      <td>01. Mai</td>\n    </tr>\n    <tr>\n      <th>3</th>\n      <td>2013</td>\n      <td>Palace Malice</td>\n      <td>Mike Smith</td>\n      <td>Todd Pletcher</td>\n      <td>Dogwood Stable</td>\n      <td>2:30.70</td>\n      <td>Belmont</td>\n      <td>01. Mai</td>\n    </tr>\n    <tr>\n      <th>4</th>\n      <td>2012</td>\n      <td>Union Rags</td>\n      <td>John Velazquez</td>\n      <td>Michael Matz</td>\n      <td>Phyllis M. Wyeth</td>\n      <td>2:30.42</td>\n      <td>Belmont</td>\n      <td>01. Mai</td>\n    </tr>\n    <tr>\n      <th>...</th>\n      <td>...</td>\n      <td>...</td>\n      <td>...</td>\n      <td>...</td>\n      <td>...</td>\n      <td>...</td>\n      <td>...</td>\n      <td>...</td>\n    </tr>\n    <tr>\n      <th>86</th>\n      <td>1930</td>\n      <td>Gallant Fox</td>\n      <td>Earl Sande</td>\n      <td>Jim Fitzsimmons</td>\n      <td>Belair Stud</td>\n      <td>2:31.60</td>\n      <td>Belmont</td>\n      <td>01. Mai</td>\n    </tr>\n    <tr>\n      <th>87</th>\n      <td>1929</td>\n      <td>Blue Larkspur</td>\n      <td>Mack Garner</td>\n      <td>Herbert J. Thompson</td>\n      <td>Edward R. Bradley</td>\n      <td>2:32.80</td>\n      <td>Belmont</td>\n      <td>01. Mai</td>\n    </tr>\n    <tr>\n      <th>88</th>\n      <td>1928</td>\n      <td>Vito</td>\n      <td>Clarence Kummer</td>\n      <td>Max Hirsch</td>\n      <td>Alfred H. Cosden</td>\n      <td>2:33.20</td>\n      <td>Belmont</td>\n      <td>01. Mai</td>\n    </tr>\n    <tr>\n      <th>89</th>\n      <td>1927</td>\n      <td>Chance Shot</td>\n      <td>Earl Sande</td>\n      <td>Pete Coyne</td>\n      <td>Joseph E. Widener</td>\n      <td>2:32.40</td>\n      <td>Belmont</td>\n      <td>01. Mai</td>\n    </tr>\n    <tr>\n      <th>90</th>\n      <td>1926</td>\n      <td>Crusader</td>\n      <td>Albert Johnson</td>\n      <td>George Conway</td>\n      <td>Glen Riddle Farm</td>\n      <td>2:32.20</td>\n      <td>Belmont</td>\n      <td>01. Mai</td>\n    </tr>\n  </tbody>\n</table>\n<p>91 rows × 8 columns</p>\n</div>"
     },
     "execution_count": 1,
     "metadata": {},
     "output_type": "execute_result"
    }
   ],
   "source": [
    "import pandas as pd\n",
    "import matplotlib.pyplot as plt\n",
    "import numpy as np\n",
    "import seaborn as sns\n",
    "\n",
    "\n",
    "def ecdf(data):\n",
    "    # number of data points: n\n",
    "    n = len(data)\n",
    "    # x-data for the ECDF: x\n",
    "    x = np.sort(data)\n",
    "    # y-data for the ECDF: y\n",
    "    y = np.arange(1, n + 1) / n\n",
    "    return x, y\n",
    "\n",
    "\n",
    "horse_data = pd.read_csv(\"belmont.csv\", delimiter=\";\")\n",
    "\n",
    "horse_data"
   ]
  },
  {
   "cell_type": "markdown",
   "source": [
    "Konvertiere Zeit in Sekunden"
   ],
   "metadata": {
    "collapsed": false,
    "pycharm": {
     "name": "#%% md\n"
    }
   }
  },
  {
   "cell_type": "code",
   "execution_count": 2,
   "outputs": [
    {
     "data": {
      "text/plain": "0     148.51\n1     146.65\n2     148.52\n3     150.70\n4     150.42\n       ...  \n86    151.60\n87    152.80\n88    153.20\n89    152.40\n90    152.20\nName: Seconds, Length: 91, dtype: float64"
     },
     "execution_count": 2,
     "metadata": {},
     "output_type": "execute_result"
    }
   ],
   "source": [
    "horse_data['Time_as_Date'] = pd.to_datetime(horse_data['Time'], format='%M:%S.%f')\n",
    "horse_data['Seconds'] = horse_data['Time_as_Date'].dt.minute * 60 + horse_data['Time_as_Date'].dt.second + (\n",
    "        horse_data['Time_as_Date'].dt.microsecond / 1000000)\n",
    "\n",
    "horse_data['Seconds']"
   ],
   "metadata": {
    "collapsed": false,
    "pycharm": {
     "name": "#%%\n"
    }
   }
  },
  {
   "cell_type": "markdown",
   "source": [
    "Finde Ausreißer mittels IQR (Percentiles)"
   ],
   "metadata": {
    "collapsed": false
   }
  },
  {
   "cell_type": "code",
   "execution_count": 3,
   "outputs": [
    {
     "data": {
      "text/plain": "<Figure size 216x576 with 1 Axes>",
      "image/png": "[encoded data removed]"
     },
     "metadata": {
      "needs_background": "light"
     },
     "output_type": "display_data"
    },
    {
     "data": {
      "text/plain": "43    144.0\n46    154.0\nName: Seconds, dtype: float64"
     },
     "execution_count": 3,
     "metadata": {},
     "output_type": "execute_result"
    }
   ],
   "source": [
    "times = horse_data['Seconds']\n",
    "\n",
    "fig, ax = plt.subplots(figsize=(3, 8))\n",
    "_ = sns.boxplot(data=times, ax=ax)\n",
    "_ = sns.swarmplot(data=times, ax=ax, color=\".2\")\n",
    "_ = ax.set_title('Box plot of race times')\n",
    "_ = ax.set_xlabel('Race time')\n",
    "_ = ax.set_ylabel('Seconds')\n",
    "plt.show()\n",
    "\n",
    "q1 = times.quantile(0.25)\n",
    "q3 = times.quantile(0.75)\n",
    "iqr = q3 - q1\n",
    "\n",
    "outliers = times[(times < (q1 - 1.5 * iqr)) | (times > (q3 + 1.5 * iqr))]\n",
    "\n",
    "outliers\n"
   ],
   "metadata": {
    "collapsed": false,
    "pycharm": {
     "name": "#%%\n"
    }
   }
  },
  {
   "cell_type": "markdown",
   "source": [
    "# Aufgabe 4\n",
    "Wann kann ein Pferd erwartet werden, dass die Ergebnisse von Secretariat übertrifft?"
   ],
   "metadata": {
    "collapsed": false,
    "pycharm": {
     "name": "#%% md\n"
    }
   }
  },
  {
   "cell_type": "code",
   "execution_count": 26,
   "outputs": [
    {
     "name": "stdout",
     "output_type": "stream",
     "text": [
      "Durchschnittlich hat Secretatiat alle 29.375 Tage einen Lauf gewonnen.\n"
     ]
    },
    {
     "data": {
      "text/plain": "<Figure size 432x288 with 1 Axes>",
      "image/png": "[encoded data removed]"
     },
     "metadata": {
      "needs_background": "light"
     },
     "output_type": "display_data"
    },
    {
     "data": {
      "text/plain": "<Figure size 432x288 with 1 Axes>",
      "image/png": "[encoded data removed]"
     },
     "metadata": {
      "needs_background": "light"
     },
     "output_type": "display_data"
    },
    {
     "name": "stdout",
     "output_type": "stream",
     "text": [
      "Mit einer Wahrscheinlichkeit von 95.0% wird ein Pferd Secretaritat in 88.1309104942341 Tagen schlagen.\n",
      "Mit einer Wahrscheinlichkeit von 99.0% wird ein Pferd Secretaritat in 136.86084587075325 Tagen schlagen.\n",
      "Mit einer Wahrscheinlichkeit von 99.9% wird ein Pferd Secretaritat in 204.27970741361872 Tagen schlagen.\n"
     ]
    }
   ],
   "source": [
    "secretariat_races = pd.read_csv(\"secretariat-races.csv\", sep=\";\")\n",
    "secretariat_races['Date'] = pd.to_datetime(secretariat_races[\"Date\"], format='%m/%d/%Y')\n",
    "\n",
    "firstplaces = secretariat_races[secretariat_races[\"Fin\"] == \"1st\"]\n",
    "\n",
    "firstplaces.sort_values(by=\"Date\", ascending=True)\n",
    "firstplaces = firstplaces.reset_index()\n",
    "\n",
    "sumOfDaysBetweenRaces = 0\n",
    "\n",
    "for index, time in firstplaces['Date'].items():\n",
    "    if index == 0:\n",
    "        continue\n",
    "\n",
    "    sumOfDaysBetweenRaces += (time - firstplaces['Date'][index - 1]).days\n",
    "\n",
    "# Calculate the mean of days between won races\n",
    "meanDaysBetweenWonRaces = np.abs(sumOfDaysBetweenRaces / len(firstplaces))\n",
    "\n",
    "print(f'Durchschnittlich hat Secretatiat alle {meanDaysBetweenWonRaces} Tage einen Lauf gewonnen.')\n",
    "\n",
    "waitingTimeUntilNextWinInDays = np.random.exponential(meanDaysBetweenWonRaces, size=100000)\n",
    "\n",
    "_ = plt.hist(waitingTimeUntilNextWinInDays, bins=100, histtype='step', density=True)\n",
    "_ = plt.xlabel('Waiting Time (Days)')\n",
    "_ = plt.ylabel('PDF')\n",
    "plt.show()\n",
    "\n",
    "def cdf(df):\n",
    "    \"\"\"Cumulative distribution function.\"\"\"\n",
    "    sq = df.value_counts()\n",
    "    return sq.sort_index().cumsum()*1./len(sq)\n",
    "\n",
    "cd = cdf(pd.DataFrame(waitingTimeUntilNextWinInDays))\n",
    "_ = plt.plot(cd.index.tolist(), cd.tolist())\n",
    "_ = plt.ylabel(\"CDF\")\n",
    "_ = plt.xlabel(\"Days\")\n",
    "plt.show()\n",
    "\n",
    "print(f'Mit einer Wahrscheinlichkeit von 95.0% wird ein Pferd Secretaritat in {cd[cd.gt(0.95)].index[0][0]} Tagen schlagen.')\n",
    "print(f'Mit einer Wahrscheinlichkeit von 99.0% wird ein Pferd Secretaritat in {cd[cd.gt(0.99)].index[0][0]} Tagen schlagen.')\n",
    "print(f'Mit einer Wahrscheinlichkeit von 99.9% wird ein Pferd Secretaritat in {cd[cd.gt(0.999)].index[0][0]} Tagen schlagen.')"
   ],
   "metadata": {
    "collapsed": false,
    "pycharm": {
     "name": "#%%\n"
    }
   }
  },
  {
   "cell_type": "markdown",
   "source": [
    "\n",
    "\n",
    "Konfidenzintervall der Varianz für Rainbow-Daten\n"
   ],
   "metadata": {
    "collapsed": false,
    "pycharm": {
     "name": "#%% md\n"
    }
   }
  }
 ],
 "metadata": {
  "kernelspec": {
   "display_name": "Python 3",
   "language": "python",
   "name": "python3"
  },
  "language_info": {
   "codemirror_mode": {
    "name": "ipython",
    "version": 2
   },
   "file_extension": ".py",
   "mimetype": "text/x-python",
   "name": "python",
   "nbconvert_exporter": "python",
   "pygments_lexer": "ipython2",
   "version": "2.7.6"
  }
 },
 "nbformat": 4,
 "nbformat_minor": 0
}